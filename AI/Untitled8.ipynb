{
 "cells": [
  {
   "cell_type": "code",
   "execution_count": 3,
   "id": "6c03391c",
   "metadata": {},
   "outputs": [
    {
     "data": {
      "text/plain": [
       "(7, 4)"
      ]
     },
     "execution_count": 3,
     "metadata": {},
     "output_type": "execute_result"
    }
   ],
   "source": [
    "def f(x):\n",
    "    x = x+3\n",
    "    return x\n",
    "\n",
    "y = 4\n",
    "f(y), y"
   ]
  },
  {
   "cell_type": "code",
   "execution_count": 2,
   "id": "4827c464",
   "metadata": {},
   "outputs": [
    {
     "data": {
      "text/plain": [
       "([7], [7])"
      ]
     },
     "execution_count": 2,
     "metadata": {},
     "output_type": "execute_result"
    }
   ],
   "source": [
    "def flist(x: list):\n",
    "    for i in range(len(x)):\n",
    "        x[i] = x[i] + 3\n",
    "    return x\n",
    "y = [4]\n",
    "flist(y), y"
   ]
  },
  {
   "cell_type": "code",
   "execution_count": 9,
   "id": "b2f724f7",
   "metadata": {},
   "outputs": [
    {
     "data": {
      "text/plain": [
       "3"
      ]
     },
     "execution_count": 9,
     "metadata": {},
     "output_type": "execute_result"
    }
   ],
   "source": [
    "L =[1,2,'alma',3,4]\n",
    "L[3]"
   ]
  },
  {
   "cell_type": "code",
   "execution_count": 7,
   "id": "72dff36c",
   "metadata": {},
   "outputs": [
    {
     "data": {
      "text/plain": [
       "{3, 4, 5, 6}"
      ]
     },
     "execution_count": 7,
     "metadata": {},
     "output_type": "execute_result"
    }
   ],
   "source": [
    "V = {3,4,5,6,5}\n",
    "V"
   ]
  },
  {
   "cell_type": "code",
   "execution_count": 8,
   "id": "395030cd",
   "metadata": {},
   "outputs": [],
   "source": [
    "Vdict = {\n",
    "    'a': 32,\n",
    "    'b': 33\n",
    "}"
   ]
  },
  {
   "cell_type": "code",
   "execution_count": 10,
   "id": "e2ba99bb",
   "metadata": {},
   "outputs": [
    {
     "data": {
      "text/plain": [
       "33"
      ]
     },
     "execution_count": 10,
     "metadata": {},
     "output_type": "execute_result"
    }
   ],
   "source": [
    "Vdict['b']"
   ]
  },
  {
   "cell_type": "code",
   "execution_count": 13,
   "id": "9c0af897",
   "metadata": {},
   "outputs": [
    {
     "name": "stdout",
     "output_type": "stream",
     "text": [
      "79\n"
     ]
    }
   ],
   "source": [
    "x=3; x=x+74; print(x+2)"
   ]
  },
  {
   "cell_type": "code",
   "execution_count": 70,
   "id": "d620b49f",
   "metadata": {},
   "outputs": [],
   "source": [
    "import matplotlib.pyplot as plt\n",
    "import pandas as pd\n",
    "import numpy as np\n",
    "import torch\n",
    "from torch import nn\n",
    "import torch.nn.functional as F\n",
    "import torchvision.transforms as transforms\n",
    "import torch\n",
    "import torch.nn as nn\n",
    "import torch.nn.functional as F\n",
    "import torch.optim as optim\n",
    "from torchvision import datasets, transforms\n",
    "from torch.optim.lr_scheduler import StepLR\n",
    "import os\n",
    "from PIL import Image"
   ]
  },
  {
   "cell_type": "code",
   "execution_count": 14,
   "id": "2fdc9572",
   "metadata": {},
   "outputs": [],
   "source": [
    "data = pd.read_csv(\"D:\\ROBOTSTUFF\\Wigner-Robot\\AI\\Arm\\Models\\parameters.csv\", sep=\";\")"
   ]
  },
  {
   "cell_type": "code",
   "execution_count": 15,
   "id": "c4c395b8",
   "metadata": {},
   "outputs": [
    {
     "data": {
      "text/html": [
       "<div>\n",
       "<style scoped>\n",
       "    .dataframe tbody tr th:only-of-type {\n",
       "        vertical-align: middle;\n",
       "    }\n",
       "\n",
       "    .dataframe tbody tr th {\n",
       "        vertical-align: top;\n",
       "    }\n",
       "\n",
       "    .dataframe thead th {\n",
       "        text-align: right;\n",
       "    }\n",
       "</style>\n",
       "<table border=\"1\" class=\"dataframe\">\n",
       "  <thead>\n",
       "    <tr style=\"text-align: right;\">\n",
       "      <th></th>\n",
       "      <th>index</th>\n",
       "      <th>comment</th>\n",
       "      <th>learning rate</th>\n",
       "      <th>gamma</th>\n",
       "      <th>epoch</th>\n",
       "      <th>batch size</th>\n",
       "      <th>seed</th>\n",
       "      <th>log interval</th>\n",
       "      <th>optimizer</th>\n",
       "      <th>transform</th>\n",
       "      <th>stepLRsize</th>\n",
       "      <th>loss</th>\n",
       "      <th>test loss</th>\n",
       "      <th>accuracy</th>\n",
       "    </tr>\n",
       "  </thead>\n",
       "  <tbody>\n",
       "    <tr>\n",
       "      <th>0</th>\n",
       "      <td>1</td>\n",
       "      <td>Testing</td>\n",
       "      <td>4.0</td>\n",
       "      <td>0.7</td>\n",
       "      <td>2</td>\n",
       "      <td>100</td>\n",
       "      <td>1</td>\n",
       "      <td>10</td>\n",
       "      <td>Adadelta</td>\n",
       "      <td>Compose(    ToTensor()    Normalize(mean=(0.13...</td>\n",
       "      <td>1</td>\n",
       "      <td>[1.618026852607727, 1.5790492296218872, 1.3343...</td>\n",
       "      <td>[0.28963952845670543, 0.30283338581739083]</td>\n",
       "      <td>[96.9955724225174, 98.00759013282732]</td>\n",
       "    </tr>\n",
       "  </tbody>\n",
       "</table>\n",
       "</div>"
      ],
      "text/plain": [
       "   index  comment  learning rate  gamma  epoch  batch size  seed  \\\n",
       "0      1  Testing            4.0    0.7      2         100     1   \n",
       "\n",
       "   log interval optimizer                                          transform  \\\n",
       "0            10  Adadelta  Compose(    ToTensor()    Normalize(mean=(0.13...   \n",
       "\n",
       "   stepLRsize                                               loss  \\\n",
       "0           1  [1.618026852607727, 1.5790492296218872, 1.3343...   \n",
       "\n",
       "                                    test loss  \\\n",
       "0  [0.28963952845670543, 0.30283338581739083]   \n",
       "\n",
       "                                accuracy  \n",
       "0  [96.9955724225174, 98.00759013282732]  "
      ]
     },
     "execution_count": 15,
     "metadata": {},
     "output_type": "execute_result"
    }
   ],
   "source": [
    "data"
   ]
  },
  {
   "cell_type": "code",
   "execution_count": 59,
   "id": "4e20cefb",
   "metadata": {},
   "outputs": [
    {
     "data": {
      "text/plain": [
       "<matplotlib.legend.Legend at 0x20cdae78670>"
      ]
     },
     "execution_count": 59,
     "metadata": {},
     "output_type": "execute_result"
    },
    {
     "data": {
      "image/png": "[encoded data removed]",
      "text/plain": [
       "<Figure size 432x288 with 1 Axes>"
      ]
     },
     "metadata": {
      "needs_background": "light"
     },
     "output_type": "display_data"
    }
   ],
   "source": [
    "y = eval(data[\"loss\"][0])\n",
    "\n",
    "plt.yscale(\"log\")\n",
    "accur_x = len(y) // data[\"epoch\"]\n",
    "accur_x = accur_x[0]\n",
    "#print(accur_x)\n",
    "plt.plot(y, \"o\", label=\"Train loss\")\n",
    "plt.plot(np.arange(accur_x, len(y)+1, accur_x), eval(data[\"test loss\"][0]), \"x\", label=\"Validation loss\")\n",
    "plt.title(\"Loss\")\n",
    "plt.xlabel(\"Steps\")\n",
    "plt.ylabel(\"Loss\")\n",
    "plt.legend()"
   ]
  },
  {
   "cell_type": "code",
   "execution_count": 33,
   "id": "bb96ab24",
   "metadata": {},
   "outputs": [
    {
     "data": {
      "text/plain": [
       "[96.9955724225174, 98.00759013282732]"
      ]
     },
     "execution_count": 33,
     "metadata": {},
     "output_type": "execute_result"
    }
   ],
   "source": [
    "eval(data[\"accuracy\"][0])"
   ]
  },
  {
   "cell_type": "code",
   "execution_count": 40,
   "id": "16a9d3bb",
   "metadata": {},
   "outputs": [
    {
     "data": {
      "text/plain": [
       "array([0, 2, 4, 6, 8])"
      ]
     },
     "execution_count": 40,
     "metadata": {},
     "output_type": "execute_result"
    }
   ],
   "source": [
    "np.arange(0, 10, 2)"
   ]
  },
  {
   "cell_type": "code",
   "execution_count": 43,
   "id": "17ca2d74",
   "metadata": {},
   "outputs": [
    {
     "data": {
      "text/plain": [
       "27"
      ]
     },
     "execution_count": 43,
     "metadata": {},
     "output_type": "execute_result"
    }
   ],
   "source": [
    "accur_x[0]"
   ]
  },
  {
   "cell_type": "code",
   "execution_count": 60,
   "id": "77079e37",
   "metadata": {},
   "outputs": [
    {
     "data": {
      "text/plain": [
       "'cam'"
      ]
     },
     "execution_count": 60,
     "metadata": {},
     "output_type": "execute_result"
    }
   ],
   "source": [
    "import random\n",
    "random.choice([\"arrow\", \"cam\", \"move\"])"
   ]
  },
  {
   "cell_type": "code",
   "execution_count": 90,
   "id": "e247b8f1",
   "metadata": {},
   "outputs": [
    {
     "data": {
      "text/plain": [
       "torch.Size([1])"
      ]
     },
     "execution_count": 90,
     "metadata": {},
     "output_type": "execute_result"
    }
   ],
   "source": [
    "image_path = 'D:/ROBOTSTUFF/Wigner-Robot/AI/Arm/Learning Data/frames/c0-0013.jpg'\n",
    "image = Image.open(image_path).convert('L')\n",
    "transform=transforms.Compose([\n",
    "        transforms.ToTensor(),\n",
    "        transforms.Normalize((0.1307,), (0.3081,))\n",
    "])\n",
    "input_tensorr = transform(image.resize((64,48))).unsqueeze(0).to(device)  # Add a batch dimension\n",
    "input_tensor.shape\n",
    "\n",
    "target = torch.tensor([1])\n",
    "target.shape"
   ]
  },
  {
   "cell_type": "code",
   "execution_count": 94,
   "id": "647de235",
   "metadata": {},
   "outputs": [],
   "source": [
    "model_path = 'D:/ROBOTSTUFF/Wigner-Robot/AI/Arm/Models/0003.model'\n",
    "device = torch.device('cuda' if torch.cuda.is_available() else 'cpu')\n",
    "device =\"cpu\"\n",
    "model = torch.jit.load(model_path).to(device)\n",
    "model.eval()\n",
    "optimizer = optim.Adadelta(model.parameters(), lr=4)\n",
    "optimizer.zero_grad()\n",
    "output = model(input_tensor)\n",
    "loss = F.nll_loss(output, target)\n",
    "loss.backward()\n"
   ]
  },
  {
   "cell_type": "code",
   "execution_count": 95,
   "id": "0e94f582",
   "metadata": {},
   "outputs": [
    {
     "data": {
      "text/plain": [
       "<bound method Module.parameters of RecursiveScriptModule(\n",
       "  original_name=Net\n",
       "  (conv1): RecursiveScriptModule(original_name=Conv2d)\n",
       "  (conv2): RecursiveScriptModule(original_name=Conv2d)\n",
       "  (conv3): RecursiveScriptModule(original_name=Conv2d)\n",
       "  (dropout1): RecursiveScriptModule(original_name=Dropout)\n",
       "  (dropout2): RecursiveScriptModule(original_name=Dropout)\n",
       "  (fc1): RecursiveScriptModule(original_name=Linear)\n",
       ")>"
      ]
     },
     "execution_count": 95,
     "metadata": {},
     "output_type": "execute_result"
    }
   ],
   "source": [
    "model.parameters"
   ]
  },
  {
   "cell_type": "code",
   "execution_count": 99,
   "id": "541cdc31",
   "metadata": {},
   "outputs": [
    {
     "data": {
      "text/plain": [
       "torch.Size([5, 15])"
      ]
     },
     "execution_count": 99,
     "metadata": {},
     "output_type": "execute_result"
    }
   ],
   "source": [
    "#print(model.conv3.weight.grad)\n",
    "model.fc1.weight.grad.shape"
   ]
  },
  {
   "cell_type": "code",
   "execution_count": null,
   "id": "996bd302",
   "metadata": {},
   "outputs": [],
   "source": []
  },
  {
   "cell_type": "code",
   "execution_count": null,
   "id": "16bfe6ec",
   "metadata": {},
   "outputs": [],
   "source": []
  }
 ],
 "metadata": {
  "kernelspec": {
   "display_name": "Python 3 (ipykernel)",
   "language": "python",
   "name": "python3"
  },
  "language_info": {
   "codemirror_mode": {
    "name": "ipython",
    "version": 3
   },
   "file_extension": ".py",
   "mimetype": "text/x-python",
   "name": "python",
   "nbconvert_exporter": "python",
   "pygments_lexer": "ipython3",
   "version": "3.9.12"
  }
 },
 "nbformat": 4,
 "nbformat_minor": 5
}
