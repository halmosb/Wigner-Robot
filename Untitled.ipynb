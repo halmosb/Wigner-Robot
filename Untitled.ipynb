{
 "cells": [
  {
   "cell_type": "code",
   "execution_count": 28,
   "id": "417aea67",
   "metadata": {},
   "outputs": [],
   "source": [
    "from PIL import Image\n",
    "import numpy as np\n",
    "import os\n",
    "import time"
   ]
  },
  {
   "cell_type": "code",
   "execution_count": 10,
   "id": "d7dabc62",
   "metadata": {},
   "outputs": [],
   "source": [
    "path = '/home/jakovac/Work/WignerAI/Robot/Wigner-Robot/video/Images/'"
   ]
  },
  {
   "cell_type": "code",
   "execution_count": 11,
   "id": "057b55e4",
   "metadata": {},
   "outputs": [],
   "source": [
    "im = Image.open(path + \"/face.jpg\")"
   ]
  },
  {
   "cell_type": "code",
   "execution_count": 13,
   "id": "f769b146",
   "metadata": {},
   "outputs": [
    {
     "data": {
      "text/plain": [
       "3.908"
      ]
     },
     "execution_count": 13,
     "metadata": {},
     "output_type": "execute_result"
    }
   ],
   "source": [
    "np.max(np.array(im.size)/500)"
   ]
  },
  {
   "cell_type": "code",
   "execution_count": 15,
   "id": "aae642ba",
   "metadata": {},
   "outputs": [],
   "source": [
    "dir_list = os.listdir(path)"
   ]
  },
  {
   "cell_type": "code",
   "execution_count": 16,
   "id": "bef8df1a",
   "metadata": {},
   "outputs": [
    {
     "data": {
      "text/plain": [
       "['Images',\n",
       " 'UDP_send.py',\n",
       " '__pycache__',\n",
       " 'camera_test.py',\n",
       " 'UDPwebcam.py',\n",
       " 'templates',\n",
       " 'UDP_receive.py',\n",
       " 'flask_camera.py',\n",
       " 'video_app.py',\n",
       " 'showjpg.py']"
      ]
     },
     "execution_count": 16,
     "metadata": {},
     "output_type": "execute_result"
    }
   ],
   "source": [
    "dir_list"
   ]
  },
  {
   "cell_type": "code",
   "execution_count": 22,
   "id": "4b527d1c",
   "metadata": {},
   "outputs": [
    {
     "data": {
      "text/plain": [
       "array([3, 5])"
      ]
     },
     "execution_count": 22,
     "metadata": {},
     "output_type": "execute_result"
    }
   ],
   "source": [
    "np.random.randint(10,size=(2,))"
   ]
  },
  {
   "cell_type": "code",
   "execution_count": 26,
   "id": "4fe2374a",
   "metadata": {},
   "outputs": [],
   "source": [
    "nn = np.random.random(size=(2,))\n",
    "nn = nn/np.linalg.norm(nn)"
   ]
  },
  {
   "cell_type": "code",
   "execution_count": 27,
   "id": "b3b78331",
   "metadata": {},
   "outputs": [
    {
     "data": {
      "text/plain": [
       "1.0"
      ]
     },
     "execution_count": 27,
     "metadata": {},
     "output_type": "execute_result"
    }
   ],
   "source": [
    "np.sum(nn**2)"
   ]
  },
  {
   "cell_type": "code",
   "execution_count": 30,
   "id": "2ff483ce",
   "metadata": {},
   "outputs": [],
   "source": [
    "time.sleep(0.5)"
   ]
  },
  {
   "cell_type": "code",
   "execution_count": 31,
   "id": "91cffdaf",
   "metadata": {},
   "outputs": [
    {
     "data": {
      "text/plain": [
       "2"
      ]
     },
     "execution_count": 31,
     "metadata": {},
     "output_type": "execute_result"
    }
   ],
   "source": [
    "np.max([1,2])"
   ]
  },
  {
   "cell_type": "code",
   "execution_count": 35,
   "id": "958b7d3c",
   "metadata": {},
   "outputs": [
    {
     "data": {
      "text/plain": [
       "(1575, 1954)"
      ]
     },
     "execution_count": 35,
     "metadata": {},
     "output_type": "execute_result"
    }
   ],
   "source": [
    "im.size"
   ]
  },
  {
   "cell_type": "code",
   "execution_count": null,
   "id": "a6bafbe9",
   "metadata": {},
   "outputs": [],
   "source": []
  }
 ],
 "metadata": {
  "kernelspec": {
   "display_name": "Python 3 (ipykernel)",
   "language": "python",
   "name": "python3"
  },
  "language_info": {
   "codemirror_mode": {
    "name": "ipython",
    "version": 3
   },
   "file_extension": ".py",
   "mimetype": "text/x-python",
   "name": "python",
   "nbconvert_exporter": "python",
   "pygments_lexer": "ipython3",
   "version": "3.10.6"
  },
  "toc": {
   "base_numbering": 1,
   "nav_menu": {},
   "number_sections": true,
   "sideBar": true,
   "skip_h1_title": false,
   "title_cell": "Table of Contents",
   "title_sidebar": "Contents",
   "toc_cell": false,
   "toc_position": {},
   "toc_section_display": true,
   "toc_window_display": false
  }
 },
 "nbformat": 4,
 "nbformat_minor": 5
}
